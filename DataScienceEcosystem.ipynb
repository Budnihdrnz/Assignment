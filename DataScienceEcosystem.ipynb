{
 "cells": [
  {
   "cell_type": "markdown",
   "id": "3ba41242-ba66-4301-9a4b-2b494e400221",
   "metadata": {},
   "source": [
    "# **Data Science Tools and Ecosystem**"
   ]
  },
  {
   "cell_type": "markdown",
   "id": "4b14acda-0743-42ca-9df8-c77344870e56",
   "metadata": {
    "tags": []
   },
   "source": [
    "## In this notebook, Data Science Tools and Ecosystem are summarized."
   ]
  },
  {
   "cell_type": "markdown",
   "id": "71d623a7-14d7-4727-b9f2-24bc06987ca7",
   "metadata": {
    "tags": []
   },
   "source": [
    "## **Objectives**\n",
    "- List popular languages for Data Science\n",
    "- List popular libraries for Data Science\n",
    "- List a few examples of evaluation arithmetic expressions in Python"
   ]
  },
  {
   "cell_type": "markdown",
   "id": "c2f20902-55a5-44fa-8088-230766496c7e",
   "metadata": {},
   "source": [
    "### Some of the popular languages that Data Scientists use are:\n",
    "1. Phyton\n",
    "2. Java\n",
    "3. C++\n",
    "4. C"
   ]
  },
  {
   "cell_type": "markdown",
   "id": "33d6605f-a802-47a1-b80e-662ebc4af05b",
   "metadata": {
    "tags": []
   },
   "source": [
    "### Some of the commonly used libraries used by Data Scientists include:\n",
    "1. TensorFlow\n",
    "2. Pandas\n",
    "3. NumPy\n",
    "4. SciPy"
   ]
  },
  {
   "cell_type": "markdown",
   "id": "73ae4308-aedd-4da0-a5ad-79c1a0932da1",
   "metadata": {},
   "source": [
    "| Data Science Tools |\n",
    "|--------------------|\n",
    "|Git|\n",
    "|Apache Subversion|\n",
    "|Eclipse IDE|"
   ]
  },
  {
   "cell_type": "markdown",
   "id": "b7e19ecd-0309-440d-94b2-9b06c9dd710e",
   "metadata": {},
   "source": [
    "### Below are a few examples of evaluating arithmetic expressions in Python."
   ]
  },
  {
   "cell_type": "markdown",
   "id": "cd3f40a1-38fc-4b7c-b8fd-cd3e6188ca5a",
   "metadata": {},
   "source": [
    "#### This a simple arithmetic expression to mutiply then add integers"
   ]
  },
  {
   "cell_type": "code",
   "execution_count": 4,
   "id": "2529c4a6-3b32-49fd-9fc5-42946ce6695f",
   "metadata": {
    "tags": []
   },
   "outputs": [
    {
     "data": {
      "text/plain": [
       "17"
      ]
     },
     "execution_count": 4,
     "metadata": {},
     "output_type": "execute_result"
    }
   ],
   "source": [
    "(3*4)+5"
   ]
  },
  {
   "cell_type": "markdown",
   "id": "45b65878-af8d-427b-845b-b748a3caba3c",
   "metadata": {},
   "source": [
    "#### This will convert 200 minutes to hours by diving by 60"
   ]
  },
  {
   "cell_type": "code",
   "execution_count": 5,
   "id": "4ec1c0e8-c7e6-42c4-a09b-fa2ad14f4bb5",
   "metadata": {
    "tags": []
   },
   "outputs": [
    {
     "data": {
      "text/plain": [
       "20"
      ]
     },
     "execution_count": 5,
     "metadata": {},
     "output_type": "execute_result"
    }
   ],
   "source": [
    "200%60"
   ]
  },
  {
   "cell_type": "markdown",
   "id": "dd29045f-3410-4ef7-82a4-32c80c8ef5dd",
   "metadata": {},
   "source": [
    "## Author\n",
    "Aleksandar"
   ]
  },
  {
   "cell_type": "code",
   "execution_count": null,
   "id": "e0b60905-64ac-4957-b0e3-f1b6d1d7d713",
   "metadata": {},
   "outputs": [],
   "source": []
  }
 ],
 "metadata": {
  "kernelspec": {
   "display_name": "Python",
   "language": "python",
   "name": "conda-env-python-py"
  },
  "language_info": {
   "codemirror_mode": {
    "name": "ipython",
    "version": 3
   },
   "file_extension": ".py",
   "mimetype": "text/x-python",
   "name": "python",
   "nbconvert_exporter": "python",
   "pygments_lexer": "ipython3",
   "version": "3.7.12"
  }
 },
 "nbformat": 4,
 "nbformat_minor": 5
}
